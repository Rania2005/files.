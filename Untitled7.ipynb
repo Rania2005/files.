{
  "nbformat": 4,
  "nbformat_minor": 0,
  "metadata": {
    "colab": {
      "name": "Untitled7.ipynb",
      "provenance": []
    },
    "kernelspec": {
      "name": "python3",
      "display_name": "Python 3"
    },
    "language_info": {
      "name": "python"
    }
  },
  "cells": [
    {
      "cell_type": "code",
      "metadata": {
        "id": "0Wj3GuC-uVMj"
      },
      "source": [
        "#question 1\n",
        "file=open('python.txt')"
      ],
      "execution_count": 6,
      "outputs": []
    },
    {
      "cell_type": "code",
      "metadata": {
        "colab": {
          "base_uri": "https://localhost:8080/"
        },
        "id": "H1GLDNMTz5T_",
        "outputId": "109c3296-6ddd-480c-c113-e119ca18435a"
      },
      "source": [
        "#question 2\n",
        "f = open(\"python.txt\",'rt',encoding = 'utf-8')\n",
        "n=int(input('nombre de lignes'))\n",
        "for i in range (n):\n",
        "  print(f.readlines(n))"
      ],
      "execution_count": 20,
      "outputs": [
        {
          "output_type": "stream",
          "name": "stdout",
          "text": [
            "nombre de lignes4\n",
            "['What is Python language?                                                \\n']\n",
            "['Python is a widely used high-level, general-purpose, interpreted, dynamic programming language.Its design philosophy emphasizes code readability, and its syntax allows programmers to express concepts in fewer lines of code than possible in \\n']\n",
            "['languages such as C++ or Java. \\n']\n",
            "['Python supports multiple programming paradigms, including object-oriented, imperative and functional programming or procedural styles. It features a dynamic type system and automatic memory management and has a large and comprehensive standard library.The best way we learn anything is by practice and exercise questions. We  have started this section for those (beginner to intermediate) who are familiar with Python.']\n"
          ]
        }
      ]
    },
    {
      "cell_type": "code",
      "metadata": {
        "colab": {
          "base_uri": "https://localhost:8080/"
        },
        "id": "8rMhCs8t0-wK",
        "outputId": "a030e497-e5e2-4a3f-bae6-08f7964df4e1"
      },
      "source": [
        "#question 2\n",
        "f = open(\"python.txt\",'rt',encoding = 'utf-8')\n",
        "x=int(input(\"nombe de lignes\"))\n",
        "for i in range (x):\n",
        "    y=f.readline()\n",
        "    print(y)\n"
      ],
      "execution_count": 17,
      "outputs": [
        {
          "output_type": "stream",
          "name": "stdout",
          "text": [
            "nombe de lignes2\n",
            "What is Python language?                                                \n",
            "\n",
            "Python is a widely used high-level, general-purpose, interpreted, dynamic programming language.Its design philosophy emphasizes code readability, and its syntax allows programmers to express concepts in fewer lines of code than possible in \n",
            "\n"
          ]
        }
      ]
    },
    {
      "cell_type": "code",
      "metadata": {
        "colab": {
          "base_uri": "https://localhost:8080/"
        },
        "id": "mrF69i3p3uNM",
        "outputId": "6a802b93-8764-42c8-d4df-898812cd36a5"
      },
      "source": [
        "f = open(\"python.txt\",'rt',encoding = 'utf-8')\n",
        "x=int(input(\"nombre de lignes\"))\n",
        "for i in range (x):\n",
        "    y=f.readline()\n",
        "    print(y[-x:])"
      ],
      "execution_count": 27,
      "outputs": [
        {
          "output_type": "stream",
          "name": "stdout",
          "text": [
            "nombre de lignes2\n",
            " \n",
            "\n",
            " \n",
            "\n"
          ]
        }
      ]
    },
    {
      "cell_type": "code",
      "metadata": {
        "colab": {
          "base_uri": "https://localhost:8080/"
        },
        "id": "cdjmOK604aR-",
        "outputId": "1ca63e27-11c0-4049-f8fd-6d37963e7235"
      },
      "source": [
        "#question 3\n",
        "f = open(\"python.txt\",'rt',encoding = 'utf-8')\n",
        "x=int(input(\"nombe de lignes\"))\n",
        "y=f.readlines()\n",
        "print(y[-x:])\n"
      ],
      "execution_count": 29,
      "outputs": [
        {
          "output_type": "stream",
          "name": "stdout",
          "text": [
            "nombe de lignes2\n",
            "['languages such as C++ or Java. \\n', 'Python supports multiple programming paradigms, including object-oriented, imperative and functional programming or procedural styles. It features a dynamic type system and automatic memory management and has a large and comprehensive standard library.The best way we learn anything is by practice and exercise questions. We  have started this section for those (beginner to intermediate) who are familiar with Python.']\n"
          ]
        }
      ]
    },
    {
      "cell_type": "code",
      "metadata": {
        "colab": {
          "base_uri": "https://localhost:8080/"
        },
        "id": "LbtOrUVo4vKY",
        "outputId": "07dabfa8-b5ea-4ce2-a120-d527dbdd0c0f"
      },
      "source": [
        "#question 4\n",
        "f= open(\"python.txt\",'rt',encoding = 'utf-8')\n",
        "data = f.read()\n",
        "l = data.split()\n",
        "print(l)\n",
        "print('Number of words in text file :', len(l))\n",
        "file.close()"
      ],
      "execution_count": 31,
      "outputs": [
        {
          "output_type": "stream",
          "name": "stdout",
          "text": [
            "['What', 'is', 'Python', 'language?', 'Python', 'is', 'a', 'widely', 'used', 'high-level,', 'general-purpose,', 'interpreted,', 'dynamic', 'programming', 'language.Its', 'design', 'philosophy', 'emphasizes', 'code', 'readability,', 'and', 'its', 'syntax', 'allows', 'programmers', 'to', 'express', 'concepts', 'in', 'fewer', 'lines', 'of', 'code', 'than', 'possible', 'in', 'languages', 'such', 'as', 'C++', 'or', 'Java.', 'Python', 'supports', 'multiple', 'programming', 'paradigms,', 'including', 'object-oriented,', 'imperative', 'and', 'functional', 'programming', 'or', 'procedural', 'styles.', 'It', 'features', 'a', 'dynamic', 'type', 'system', 'and', 'automatic', 'memory', 'management', 'and', 'has', 'a', 'large', 'and', 'comprehensive', 'standard', 'library.The', 'best', 'way', 'we', 'learn', 'anything', 'is', 'by', 'practice', 'and', 'exercise', 'questions.', 'We', 'have', 'started', 'this', 'section', 'for', 'those', '(beginner', 'to', 'intermediate)', 'who', 'are', 'familiar', 'with', 'Python.']\n",
            "Number of words in text file : 100\n"
          ]
        }
      ]
    }
  ]
}